{
 "cells": [
  {
   "cell_type": "code",
   "execution_count": 2,
   "id": "5fafd875",
   "metadata": {},
   "outputs": [
    {
     "name": "stdout",
     "output_type": "stream",
     "text": [
      "Requirement already satisfied: langchain_groq in /Users/apple/anaconda3/lib/python3.10/site-packages (0.1.10)\n",
      "Requirement already satisfied: groq<1,>=0.4.1 in /Users/apple/anaconda3/lib/python3.10/site-packages (from langchain_groq) (0.30.0)\n",
      "Requirement already satisfied: langchain-core<0.3.0,>=0.2.39 in /Users/apple/anaconda3/lib/python3.10/site-packages (from langchain_groq) (0.2.43)\n",
      "Requirement already satisfied: anyio<5,>=3.5.0 in /Users/apple/anaconda3/lib/python3.10/site-packages (from groq<1,>=0.4.1->langchain_groq) (4.6.2)\n",
      "Requirement already satisfied: distro<2,>=1.7.0 in /Users/apple/anaconda3/lib/python3.10/site-packages (from groq<1,>=0.4.1->langchain_groq) (1.9.0)\n",
      "Requirement already satisfied: httpx<1,>=0.23.0 in /Users/apple/anaconda3/lib/python3.10/site-packages (from groq<1,>=0.4.1->langchain_groq) (0.27.0)\n",
      "Requirement already satisfied: pydantic<3,>=1.9.0 in /Users/apple/anaconda3/lib/python3.10/site-packages (from groq<1,>=0.4.1->langchain_groq) (1.10.13)\n",
      "Requirement already satisfied: sniffio in /Users/apple/anaconda3/lib/python3.10/site-packages (from groq<1,>=0.4.1->langchain_groq) (1.3.0)\n",
      "Requirement already satisfied: typing-extensions<5,>=4.10 in /Users/apple/anaconda3/lib/python3.10/site-packages (from groq<1,>=0.4.1->langchain_groq) (4.12.2)\n",
      "Requirement already satisfied: PyYAML>=5.3 in /Users/apple/anaconda3/lib/python3.10/site-packages (from langchain-core<0.3.0,>=0.2.39->langchain_groq) (6.0.2)\n",
      "Requirement already satisfied: jsonpatch<2.0,>=1.33 in /Users/apple/anaconda3/lib/python3.10/site-packages (from langchain-core<0.3.0,>=0.2.39->langchain_groq) (1.33)\n",
      "Requirement already satisfied: langsmith<0.2.0,>=0.1.112 in /Users/apple/anaconda3/lib/python3.10/site-packages (from langchain-core<0.3.0,>=0.2.39->langchain_groq) (0.1.147)\n",
      "Requirement already satisfied: packaging<25,>=23.2 in /Users/apple/anaconda3/lib/python3.10/site-packages (from langchain-core<0.3.0,>=0.2.39->langchain_groq) (24.1)\n",
      "Requirement already satisfied: tenacity!=8.4.0,<9.0.0,>=8.1.0 in /Users/apple/anaconda3/lib/python3.10/site-packages (from langchain-core<0.3.0,>=0.2.39->langchain_groq) (8.5.0)\n",
      "Requirement already satisfied: idna>=2.8 in /Users/apple/anaconda3/lib/python3.10/site-packages (from anyio<5,>=3.5.0->groq<1,>=0.4.1->langchain_groq) (3.7)\n",
      "Requirement already satisfied: exceptiongroup>=1.0.2 in /Users/apple/anaconda3/lib/python3.10/site-packages (from anyio<5,>=3.5.0->groq<1,>=0.4.1->langchain_groq) (1.2.0)\n",
      "Requirement already satisfied: certifi in /Users/apple/anaconda3/lib/python3.10/site-packages (from httpx<1,>=0.23.0->groq<1,>=0.4.1->langchain_groq) (2025.6.15)\n",
      "Requirement already satisfied: httpcore==1.* in /Users/apple/anaconda3/lib/python3.10/site-packages (from httpx<1,>=0.23.0->groq<1,>=0.4.1->langchain_groq) (1.0.2)\n",
      "Requirement already satisfied: h11<0.15,>=0.13 in /Users/apple/anaconda3/lib/python3.10/site-packages (from httpcore==1.*->httpx<1,>=0.23.0->groq<1,>=0.4.1->langchain_groq) (0.14.0)\n",
      "Requirement already satisfied: jsonpointer>=1.9 in /Users/apple/anaconda3/lib/python3.10/site-packages (from jsonpatch<2.0,>=1.33->langchain-core<0.3.0,>=0.2.39->langchain_groq) (2.1)\n",
      "Requirement already satisfied: orjson<4.0.0,>=3.9.14 in /Users/apple/anaconda3/lib/python3.10/site-packages (from langsmith<0.2.0,>=0.1.112->langchain-core<0.3.0,>=0.2.39->langchain_groq) (3.10.12)\n",
      "Requirement already satisfied: requests<3,>=2 in /Users/apple/anaconda3/lib/python3.10/site-packages (from langsmith<0.2.0,>=0.1.112->langchain-core<0.3.0,>=0.2.39->langchain_groq) (2.32.3)\n",
      "Requirement already satisfied: requests-toolbelt<2.0.0,>=1.0.0 in /Users/apple/anaconda3/lib/python3.10/site-packages (from langsmith<0.2.0,>=0.1.112->langchain-core<0.3.0,>=0.2.39->langchain_groq) (1.0.0)\n",
      "Requirement already satisfied: charset-normalizer<4,>=2 in /Users/apple/anaconda3/lib/python3.10/site-packages (from requests<3,>=2->langsmith<0.2.0,>=0.1.112->langchain-core<0.3.0,>=0.2.39->langchain_groq) (3.3.2)\n",
      "Requirement already satisfied: urllib3<3,>=1.21.1 in /Users/apple/anaconda3/lib/python3.10/site-packages (from requests<3,>=2->langsmith<0.2.0,>=0.1.112->langchain-core<0.3.0,>=0.2.39->langchain_groq) (2.2.3)\n",
      "\n",
      "\u001b[1m[\u001b[0m\u001b[34;49mnotice\u001b[0m\u001b[1;39;49m]\u001b[0m\u001b[39;49m A new release of pip is available: \u001b[0m\u001b[31;49m24.3.1\u001b[0m\u001b[39;49m -> \u001b[0m\u001b[32;49m25.2\u001b[0m\n",
      "\u001b[1m[\u001b[0m\u001b[34;49mnotice\u001b[0m\u001b[1;39;49m]\u001b[0m\u001b[39;49m To update, run: \u001b[0m\u001b[32;49mpip install --upgrade pip\u001b[0m\n",
      "Note: you may need to restart the kernel to use updated packages.\n"
     ]
    }
   ],
   "source": [
    "%pip install langchain_groq\n",
    "from langchain_groq import ChatGroq\n"
   ]
  },
  {
   "cell_type": "code",
   "execution_count": null,
   "id": "af01a73c",
   "metadata": {},
   "outputs": [
    {
     "name": "stdout",
     "output_type": "stream",
     "text": [
      "Requirement already satisfied: python-dotenv in /opt/anaconda3/lib/python3.13/site-packages (1.1.0)\n",
      "Note: you may need to restart the kernel to use updated packages.\n"
     ]
    }
   ],
   "source": [
    "%pip install python-dotenv\n"
   ]
  },
  {
   "cell_type": "code",
   "execution_count": 3,
   "id": "13da6f9d",
   "metadata": {},
   "outputs": [
    {
     "data": {
      "text/plain": [
       "True"
      ]
     },
     "execution_count": 3,
     "metadata": {},
     "output_type": "execute_result"
    }
   ],
   "source": [
    "import os\n",
    "from dotenv import load_dotenv,find_dotenv\n",
    "load_dotenv(find_dotenv('groqkey.env'))"
   ]
  },
  {
   "cell_type": "code",
   "execution_count": 5,
   "id": "f75448cb",
   "metadata": {},
   "outputs": [
    {
     "data": {
      "text/plain": [
       "True"
      ]
     },
     "execution_count": 5,
     "metadata": {},
     "output_type": "execute_result"
    }
   ],
   "source": [
    "load_dotenv(find_dotenv(\"groqkey.env\"))"
   ]
  },
  {
   "cell_type": "code",
   "execution_count": null,
   "id": "fc1c526a",
   "metadata": {},
   "outputs": [],
   "source": [
    "\n",
    "from langchain_groq import ChatGroq\n",
    "import os\n",
    "\n",
    "load_dotenv(find_dotenv(\"groqkey.env\"))\n",
    "api_key = os.getenv(\"GROQ_API_KEY\")\n",
    "\n",
    "llamaChatModeel = ChatGroq(\n",
    "    model_name=\"meta-llama/llama-4-scout-17b-16e-instruct\",\n",
    "    api_key=api_key\n",
    ")"
   ]
  },
  {
   "cell_type": "code",
   "execution_count": 19,
   "id": "74699f4c",
   "metadata": {},
   "outputs": [],
   "source": [
    "messeages=[{\n",
    "    \"role\": \"user\",\n",
    "    \"content\": \"Explain the importance of fast language models\",\n",
    "}]"
   ]
  },
  {
   "cell_type": "code",
   "execution_count": 20,
   "id": "a286e19c",
   "metadata": {},
   "outputs": [],
   "source": [
    "llamaResopnse=llamaChatModeel.invoke(messeages)"
   ]
  },
  {
   "cell_type": "code",
   "execution_count": 21,
   "id": "e707a7b2",
   "metadata": {},
   "outputs": [
    {
     "name": "stdout",
     "output_type": "stream",
     "text": [
      "Fast language models have become increasingly important in recent years due to their widespread applications in natural language processing (NLP) and artificial intelligence (AI). Here are some reasons why fast language models are crucial:\n",
      "\n",
      "1. **Improved User Experience**: Fast language models enable faster and more responsive interactions with users, which is particularly important for applications such as chatbots, virtual assistants, and language translation systems. A faster model response time leads to a better user experience, increased engagement, and higher satisfaction.\n",
      "2. **Scalability**: As the demand for NLP applications grows, the need for fast language models becomes more pressing. Fast models can handle a larger volume of requests, making them more scalable and suitable for large-scale deployments.\n",
      "3. **Real-time Applications**: Many NLP applications, such as speech recognition, sentiment analysis, and text classification, require real-time processing. Fast language models enable these applications to process and respond to input in real-time, which is critical for applications like voice assistants, sentiment analysis for customer feedback, and emergency response systems.\n",
      "4. **Cost-effectiveness**: Faster language models require less computational resources and energy, which translates to lower costs for deployment, maintenance, and operation. This is particularly important for cloud-based services, where costs can add up quickly.\n",
      "5. **Competitive Advantage**: In many industries, the ability to process and respond to user input quickly can be a competitive advantage. For example, in customer service, a faster chatbot can provide quicker support and improve customer satisfaction, leading to increased loyalty and retention.\n",
      "6. **Enabling New Applications**: Fast language models enable new applications that were previously not possible due to latency constraints. For example, fast language models can be used for real-time language translation, enabling more effective communication across languages and cultures.\n",
      "7. **Edge AI**: With the proliferation of edge devices, such as smartphones, smart speakers, and IoT devices, fast language models are essential for enabling AI capabilities on these devices. Edge AI requires models that can run quickly and efficiently on devices with limited computational resources.\n",
      "\n",
      "To achieve fast language models, researchers and developers have been exploring various techniques, such as:\n",
      "\n",
      "1. **Model pruning**: Reducing the size of the model by eliminating unnecessary weights and connections.\n",
      "2. **Knowledge distillation**: Transferring knowledge from a larger model to a smaller one.\n",
      "3. **Efficient architectures**: Designing model architectures that are optimized for speed and efficiency.\n",
      "4. **Quantization**: Reducing the precision of model weights and activations to reduce computational requirements.\n",
      "5. **Parallelization**: Distributing model computations across multiple processing units, such as GPUs or TPUs.\n",
      "\n",
      "Overall, fast language models are crucial for enabling efficient, scalable, and effective NLP applications that can provide a better user experience, improve customer satisfaction, and drive business success.\n"
     ]
    }
   ],
   "source": [
    "print(llamaResopnse.content)"
   ]
  },
  {
   "cell_type": "code",
   "execution_count": 22,
   "id": "976d154e",
   "metadata": {},
   "outputs": [],
   "source": [
    "from langchain import PromptTemplate"
   ]
  },
  {
   "cell_type": "code",
   "execution_count": 23,
   "id": "0ea12d3d",
   "metadata": {},
   "outputs": [],
   "source": [
    "prompt_template = PromptTemplate.from_template(\n",
    "    \"What is a good name for a company that makes {product}?\"\n",
    ")"
   ]
  },
  {
   "cell_type": "code",
   "execution_count": 24,
   "id": "7baa5e6c",
   "metadata": {},
   "outputs": [],
   "source": [
    "llmmodel_prompt= prompt_template.format(\n",
    "    product=\"colorful socks\")"
   ]
  },
  {
   "cell_type": "code",
   "execution_count": 25,
   "id": "ebfc6adc",
   "metadata": {},
   "outputs": [],
   "source": [
    "response=llamaChatModeel.invoke(llmmodel_prompt)"
   ]
  },
  {
   "cell_type": "code",
   "execution_count": 26,
   "id": "a83efd4a",
   "metadata": {},
   "outputs": [
    {
     "name": "stdout",
     "output_type": "stream",
     "text": [
      "What is a good name for a company that makes colorful socks?\n"
     ]
    }
   ],
   "source": [
    "print('What is a good name for a company that makes colorful socks?')"
   ]
  },
  {
   "cell_type": "code",
   "execution_count": 27,
   "id": "b05d7d47",
   "metadata": {},
   "outputs": [
    {
     "name": "stdout",
     "output_type": "stream",
     "text": [
      "Here are some suggestions for a company name that makes colorful socks:\n",
      "\n",
      "1. **Sock Spectrum**: This name plays on the idea of a spectrum of colors, which fits well with a company that offers a wide range of colorful socks.\n",
      "2. **ToeTally Colorful**: This name is a play on words that incorporates \"toe\" (as in, the toes that socks cover) and \"totally,\" with a nod to the colorful aspect of the socks.\n",
      "3. **Hue & Sole**: This name combines \"hue\" (a color or shade) with \"sole\" (the bottom of a foot), creating a clever and catchy name.\n",
      "4. **Socktopia**: This name suggests a utopia of socks, which could appeal to customers looking for a fun and vibrant sock experience.\n",
      "5. **Chroma Socks**: \"Chroma\" means color or hue, making this name a simple and straightforward choice for a company that specializes in colorful socks.\n",
      "6. **SoleMates Sock Co.**: This name plays on the idea of finding a matching pair of socks, with a friendly and approachable tone.\n",
      "7. **Rainbow Toes**: This name evokes a fun and playful vibe, suggesting a company that offers bright and cheerful socks.\n",
      "8. **Sockful of Color**: This name incorporates a playful use of \"sockful\" (a full set of socks) and highlights the colorful aspect of the products.\n",
      "9. **Kaleidosock**: This name references the colorful, ever-changing patterns of a kaleidoscope, which could appeal to customers looking for unique and eye-catching socks.\n",
      "10. **Bright Threads**: This name emphasizes the bright, colorful aspect of the socks and suggests a company that offers high-quality, vibrant products.\n",
      "\n",
      "I hope one of these suggestions sparks inspiration for your company name!\n"
     ]
    }
   ],
   "source": [
    "print(response.content)"
   ]
  },
  {
   "cell_type": "code",
   "execution_count": 28,
   "id": "41414a22",
   "metadata": {},
   "outputs": [],
   "source": [
    "from langchain_core.prompts import ChatPromptTemplate\n",
    "chat_template = ChatPromptTemplate.from_messages(\n",
    "    [\n",
    "        (\"system\", \"You are a helpful {profession} assistant.\"),\n",
    "        (\"human\", \"Hello, Mr. {profession}! How are you?\"),\n",
    "        ('ai',\"Good day! I am doing well, thank you. How can I assist you today?\"),\n",
    "        (\"human\", \"What is the capital of {country}?\"),\n",
    "        (\"ai\", \"{country} has many cities, but the capital is {capital}.\"),\n",
    "        (\"human\", \"{user_input}\"),\n",
    "\n",
    "    ]\n",
    ")\n",
    "messeages = chat_template.format_messages(\n",
    "    profession=\"Historian\",\n",
    "    country=\"France\",\n",
    "    capital=\"Paris\",\n",
    "    user_input=\"What is the capital of France?\"\n",
    ")\n",
    "response = llamaChatModeel.invoke(messeages)"
   ]
  },
  {
   "cell_type": "code",
   "execution_count": 29,
   "id": "8fe6a912",
   "metadata": {},
   "outputs": [
    {
     "data": {
      "text/plain": [
       "\"The capital of France is Paris. It's a well-known fact, but I suppose I should note that Paris has been the capital of France since 987 AD, when Hugh Capet, the Count of Paris, became King of France. Prior to that, the capital was in other cities such as Reims, Soissons, and even Aachen during the Carolingian period. But since the 10th century, Paris has been the seat of the French government and remains so to this day.\""
      ]
     },
     "execution_count": 29,
     "metadata": {},
     "output_type": "execute_result"
    }
   ],
   "source": [
    "response.content"
   ]
  },
  {
   "cell_type": "code",
   "execution_count": 34,
   "id": "550794a4",
   "metadata": {},
   "outputs": [
    {
     "name": "stdout",
     "output_type": "stream",
     "text": [
      "OpenAI was founded in 2015 by Sam Altman, Elon Musk, Greg Brockman, Ilya Sutskever, and Wojciech Zaremba. It was initially established as a non-profit artificial intelligence research laboratory. Elon Musk left the organization in 2018.\n"
     ]
    }
   ],
   "source": [
    "chat_history = [\n",
    "    {\"role\": \"system\", \"content\": \"You are a helpful assistant.\"},\n",
    "    {\"role\": \"user\", \"content\": \"Who founded OpenAI?\"},\n",
    "    {\"role\": \"assistant\", \"content\": \"OpenAI was founded by Sam Altman.\"},\n",
    "    {\"role\": \"user\", \"content\": \"When was it founded?\"}\n",
    "]\n",
    "\n",
    "response = llamaChatModeel.invoke(chat_history)\n",
    "print(response.content)\n"
   ]
  },
  {
   "cell_type": "code",
   "execution_count": 35,
   "id": "cf515b56",
   "metadata": {},
   "outputs": [
    {
     "name": "stdout",
     "output_type": "stream",
     "text": [
      "Here are some suggestions for a company name that makes smart shoes:\n",
      "\n",
      "1. **SoleMates**: A playful name that suggests a connection between the shoes and the wearer.\n",
      "2. **SmartSoles**: Simple and straightforward, conveying the intelligent technology embedded in the shoes.\n",
      "3. **StepWise**: Implies a thoughtful and intelligent approach to footwear.\n",
      "4. **ShoeSync**: Suggests synchronization between the shoes, the wearer, and possibly other devices.\n",
      "5. **HeelHub**: A modern name that positions the company as a central hub for innovative footwear.\n",
      "6. **FootForward**: Encourages progress and movement, conveying a sense of innovation and forward-thinking.\n",
      "7. **LaceUp**: A playful name that references the traditional shoelace, while also implying a tech-savvy approach.\n",
      "8. **Pedalux**: A combination of \"pedal\" and \"lux,\" suggesting a high-end, intelligent shoe experience.\n",
      "9. **WalkWise**: Conveys a sense of intelligent navigation and smart decision-making.\n",
      "10. **StrideTech**: Highlights the company's focus on innovative technology and stride-enhancing features.\n",
      "\n",
      "Remember to choose a name that:\n",
      "\n",
      "* Is easy to remember and pronounce\n",
      "* Is available as a web domain and social media handle\n",
      "* Reflects your brand values and personality\n",
      "* Is unique and stands out from competitors\n",
      "\n",
      "Take your time, and I hope one of these suggestions sparks inspiration for your company name!\n"
     ]
    }
   ],
   "source": [
    "formatted_prompt = prompt_template.format(product=\"smart shoes\")\n",
    "\n",
    "response = llamaChatModeel.invoke([\n",
    "    {\"role\": \"user\", \"content\": formatted_prompt}\n",
    "])\n",
    "\n",
    "print(response.content)\n"
   ]
  }
 ],
 "metadata": {
  "kernelspec": {
   "display_name": "base",
   "language": "python",
   "name": "python3"
  },
  "language_info": {
   "codemirror_mode": {
    "name": "ipython",
    "version": 3
   },
   "file_extension": ".py",
   "mimetype": "text/x-python",
   "name": "python",
   "nbconvert_exporter": "python",
   "pygments_lexer": "ipython3",
   "version": "3.10.15"
  }
 },
 "nbformat": 4,
 "nbformat_minor": 5
}
